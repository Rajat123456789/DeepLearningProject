{
 "cells": [
  {
   "cell_type": "code",
   "execution_count": 8,
   "id": "0654cdb5-064a-490e-8266-274e28f3208f",
   "metadata": {},
   "outputs": [],
   "source": [
    "# Program To Read video \n",
    "# and Extract Frames \n",
    "\n",
    "import cv2 \n",
    "\n",
    "# Function to extract frames \n",
    "def FrameCapture(path): \n",
    "\n",
    "    # Path to video file \n",
    "    vidObj = cv2.VideoCapture(path) \n",
    "\n",
    "    # Used as counter variable \n",
    "    count1 = 0\n",
    "    count2 = 0\n",
    "    \n",
    "    # checks whether frames were extracted \n",
    "    success = 1\n",
    "    \n",
    "    while success: \n",
    "    \n",
    "        # vidObj object calls read \n",
    "        # function extract frames \n",
    "        success, image = vidObj.read() \n",
    "        if(count1%60==0):\n",
    "            # Saves the frames with frame-count \n",
    "            cv2.imwrite(\"./Frames/frame%d.jpg\" % count2, image) \n",
    "            count2+=1\n",
    "    \n",
    "        count1 += 1\n",
    "\n",
    "\n",
    "# Driver Code \n",
    "if __name__ == '__main__': \n",
    "    # Calling the function\n",
    "    FrameCapture(\"./Sequence 01.mp4\") \n"
   ]
  },
  {
   "cell_type": "code",
   "execution_count": 9,
   "id": "79630f02-8281-4909-b4b2-547b097b6c11",
   "metadata": {},
   "outputs": [
    {
     "name": "stdout",
     "output_type": "stream",
     "text": [
      "Collecting labelImg\n",
      "  Downloading labelImg-1.8.6.tar.gz (247 kB)\n",
      "     ---------------------------------------- 0.0/247.7 kB ? eta -:--:--\n",
      "     - -------------------------------------- 10.2/247.7 kB ? eta -:--:--\n",
      "     - -------------------------------------- 10.2/247.7 kB ? eta -:--:--\n",
      "     ---- -------------------------------- 30.7/247.7 kB 220.2 kB/s eta 0:00:01\n",
      "     ------------- ----------------------- 92.2/247.7 kB 525.1 kB/s eta 0:00:01\n",
      "     -------------------------------------- 247.7/247.7 kB 1.3 MB/s eta 0:00:00\n",
      "  Preparing metadata (setup.py): started\n",
      "  Preparing metadata (setup.py): finished with status 'done'\n",
      "Requirement already satisfied: pyqt5 in c:\\users\\somes\\anaconda3\\lib\\site-packages (from labelImg) (5.15.10)\n",
      "Requirement already satisfied: lxml in c:\\users\\somes\\anaconda3\\lib\\site-packages (from labelImg) (4.9.3)\n",
      "Requirement already satisfied: PyQt5-sip<13,>=12.13 in c:\\users\\somes\\anaconda3\\lib\\site-packages (from pyqt5->labelImg) (12.13.0)\n",
      "Building wheels for collected packages: labelImg\n",
      "  Building wheel for labelImg (setup.py): started\n",
      "  Building wheel for labelImg (setup.py): finished with status 'done'\n",
      "  Created wheel for labelImg: filename=labelImg-1.8.6-py2.py3-none-any.whl size=261580 sha256=40d7fd99c93c463d21ba4915c49af43a8a04840b652e0e69d16118e21dd303b1\n",
      "  Stored in directory: c:\\users\\somes\\appdata\\local\\pip\\cache\\wheels\\79\\90\\db\\e0700438d3647c0209061d77992c901d3c786a56fec574ac86\n",
      "Successfully built labelImg\n",
      "Installing collected packages: labelImg\n",
      "Successfully installed labelImg-1.8.6\n"
     ]
    }
   ],
   "source": [
    "!pip install labelImg"
   ]
  },
  {
   "cell_type": "code",
   "execution_count": 10,
   "id": "f1631df6-8d81-4b83-92a2-3c57fd24a0df",
   "metadata": {},
   "outputs": [
    {
     "name": "stderr",
     "output_type": "stream",
     "text": [
      "QMimeDatabase: Error loading internal MIME data\n",
      "An error has been encountered at line 1 of <internal MIME data>: Premature end of document.:\n",
      "Traceback (most recent call last):\n",
      "  File \"C:\\Users\\somes\\anaconda3\\Lib\\site-packages\\libs\\canvas.py\", line 530, in paintEvent\n",
      "    p.drawLine(self.prev_point.x(), 0, self.prev_point.x(), self.pixmap.height())\n",
      "TypeError: arguments did not match any overloaded call:\n",
      "  drawLine(self, l: QLineF): argument 1 has unexpected type 'float'\n",
      "  drawLine(self, line: QLine): argument 1 has unexpected type 'float'\n",
      "  drawLine(self, x1: int, y1: int, x2: int, y2: int): argument 1 has unexpected type 'float'\n",
      "  drawLine(self, p1: QPoint, p2: QPoint): argument 1 has unexpected type 'float'\n",
      "  drawLine(self, p1: Union[QPointF, QPoint], p2: Union[QPointF, QPoint]): argument 1 has unexpected type 'float'\n"
     ]
    }
   ],
   "source": [
    "!labelImg"
   ]
  },
  {
   "cell_type": "code",
   "execution_count": null,
   "id": "1d80810b-be68-45a3-b89f-8e5364d1ddac",
   "metadata": {},
   "outputs": [],
   "source": []
  }
 ],
 "metadata": {
  "kernelspec": {
   "display_name": "Python 3 (ipykernel)",
   "language": "python",
   "name": "python3"
  },
  "language_info": {
   "codemirror_mode": {
    "name": "ipython",
    "version": 3
   },
   "file_extension": ".py",
   "mimetype": "text/x-python",
   "name": "python",
   "nbconvert_exporter": "python",
   "pygments_lexer": "ipython3",
   "version": "3.11.7"
  }
 },
 "nbformat": 4,
 "nbformat_minor": 5
}
