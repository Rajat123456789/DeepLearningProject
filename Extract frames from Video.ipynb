{
 "cells": [
  {
   "cell_type": "code",
   "execution_count": 3,
   "id": "0654cdb5-064a-490e-8266-274e28f3208f",
   "metadata": {},
   "outputs": [],
   "source": [
    "# Program To Read video \n",
    "# and Extract Frames \n",
    "\n",
    "import cv2 \n",
    "\n",
    "# Function to extract frames \n",
    "def FrameCapture(path): \n",
    "\n",
    "    # Path to video file \n",
    "    vidObj = cv2.VideoCapture(path) \n",
    "\n",
    "    # Used as counter variable \n",
    "    count1 = 0\n",
    "    count2 = 0\n",
    "    \n",
    "    # checks whether frames were extracted \n",
    "    success = 1\n",
    "    \n",
    "    while success: \n",
    "    \n",
    "        # vidObj object calls read \n",
    "        # function extract frames \n",
    "        success, image = vidObj.read() \n",
    "        if(count1%30==0):\n",
    "            # Saves the frames with frame-count \n",
    "            cv2.imwrite(\"./Frames/frame%d.jpg\" % count2, image) \n",
    "            count2+=1\n",
    "    \n",
    "        count1 += 1\n",
    "\n",
    "\n",
    "# Driver Code \n",
    "if __name__ == '__main__': \n",
    "    # Calling the function\n",
    "    FrameCapture(\"./Video_02.mp4\") \n"
   ]
  },
  {
   "cell_type": "code",
   "execution_count": null,
   "id": "6a6631e3-f2ea-4db2-a495-a880b494ff80",
   "metadata": {},
   "outputs": [],
   "source": []
  }
 ],
 "metadata": {
  "kernelspec": {
   "display_name": "Python 3 (ipykernel)",
   "language": "python",
   "name": "python3"
  },
  "language_info": {
   "codemirror_mode": {
    "name": "ipython",
    "version": 3
   },
   "file_extension": ".py",
   "mimetype": "text/x-python",
   "name": "python",
   "nbconvert_exporter": "python",
   "pygments_lexer": "ipython3",
   "version": "3.11.7"
  }
 },
 "nbformat": 4,
 "nbformat_minor": 5
}
